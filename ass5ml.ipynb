{
  "nbformat": 4,
  "nbformat_minor": 0,
  "metadata": {
    "colab": {
      "provenance": []
    },
    "kernelspec": {
      "name": "python3",
      "display_name": "Python 3"
    },
    "language_info": {
      "name": "python"
    }
  },
  "cells": [
    {
      "cell_type": "markdown",
      "source": [
        "Q1"
      ],
      "metadata": {
        "id": "0K_Zx2r5Wq-g"
      }
    },
    {
      "cell_type": "code",
      "execution_count": null,
      "metadata": {
        "colab": {
          "base_uri": "https://localhost:8080/"
        },
        "id": "BsMZSMJTV76E",
        "outputId": "3332a921-cb62-44bf-ce04-73b9cf57a127"
      },
      "outputs": [
        {
          "output_type": "stream",
          "name": "stdout",
          "text": [
            "[2 1 1 2 2 2 1 1 0 2 0 0 2 2 0 2 1 0 0 0 1 0 1 2 2 2 1 1 1 0 1 2 2 0 2 0 0\n",
            " 0 0 2 1 0 1 2 1]\n",
            "Test Set Accuracy: 84.44444444444444\n"
          ]
        },
        {
          "output_type": "stream",
          "name": "stderr",
          "text": [
            "/usr/local/lib/python3.10/dist-packages/sklearn/linear_model/_logistic.py:1256: FutureWarning: 'multi_class' was deprecated in version 1.5 and will be removed in 1.7. Use OneVsRestClassifier(LogisticRegression(..)) instead. Leave it to its default value to avoid this warning.\n",
            "  warnings.warn(\n"
          ]
        }
      ],
      "source": [
        "import numpy as np\n",
        "import pandas as pd\n",
        "from sklearn.datasets import load_iris\n",
        "from sklearn.model_selection import train_test_split\n",
        "from sklearn.preprocessing import StandardScaler\n",
        "from sklearn.linear_model import LogisticRegression\n",
        "from sklearn.metrics import accuracy_score\n",
        "\n",
        "iris = load_iris()\n",
        "X = iris.data\n",
        "y = iris.target\n",
        "class_names = iris.target_names\n",
        "\n",
        "X_train, X_test, y_train, y_test = train_test_split(X, y, test_size=0.3, random_state=42, stratify=y)\n",
        "\n",
        "scaler = StandardScaler()\n",
        "X_train = scaler.fit_transform(X_train)\n",
        "X_test = scaler.transform(X_test)\n",
        "\n",
        "ovr = LogisticRegression(multi_class='ovr', solver='lbfgs', max_iter=200)\n",
        "ovr.fit(X_train, y_train)\n",
        "\n",
        "y_pred = ovr.predict(X_test)\n",
        "print(y_pred)\n",
        "accuracy = accuracy_score(y_test, y_pred)\n",
        "print(f\"Test Set Accuracy:\", accuracy*100)"
      ]
    },
    {
      "cell_type": "markdown",
      "source": [
        "Q2"
      ],
      "metadata": {
        "id": "bh3_mR-cZuoY"
      }
    },
    {
      "cell_type": "code",
      "source": [
        "import pandas as pd\n",
        "from sklearn.preprocessing import LabelEncoder\n",
        "weather_data = pd.read_csv('weather.csv')\n",
        "label_encoders = {}\n",
        "categorical_columns = ['Outlook', 'Temp', 'Humidity']\n",
        "for column in categorical_columns:\n",
        "    le = LabelEncoder()\n",
        "    weather_data[column] = le.fit_transform(weather_data[column])\n",
        "    label_encoders[column] = le\n",
        "weather_data.head()\n",
        "X = weather_data.drop('Play', axis=1)\n",
        "y = weather_data['Play']\n",
        "X_train, X_test, y_train, y_test = train_test_split(X, y, test_size=0.3, random_state=42)\n",
        "dt_model = DecisionTreeClassifier(criterion='gini', max_depth=None, min_samples_split=2, random_state=42)\n",
        "dt_model.fit(X_train, y_train)\n",
        "y_pred = dt_model.predict(X_test)\n",
        "print(y_pred)\n",
        "accuracy = accuracy_score(y_test, y_pred)\n",
        "print(f\"Accuracy: {accuracy:.4f}\")\n",
        "print(\"Classification Report:\")\n",
        "print(classification_report(y_test, y_pred))"
      ],
      "metadata": {
        "id": "WiLBqfFXWs2w",
        "colab": {
          "base_uri": "https://localhost:8080/"
        },
        "outputId": "2660fd1b-f5f3-4062-bb78-8ba55518a7ba"
      },
      "execution_count": null,
      "outputs": [
        {
          "output_type": "stream",
          "name": "stdout",
          "text": [
            "[1 0 1 1 1]\n",
            "Accuracy: 0.4000\n",
            "Classification Report:\n",
            "              precision    recall  f1-score   support\n",
            "\n",
            "           0       0.00      0.00      0.00         2\n",
            "           1       0.50      0.67      0.57         3\n",
            "\n",
            "    accuracy                           0.40         5\n",
            "   macro avg       0.25      0.33      0.29         5\n",
            "weighted avg       0.30      0.40      0.34         5\n",
            "\n"
          ]
        }
      ]
    },
    {
      "cell_type": "markdown",
      "source": [
        "Q3"
      ],
      "metadata": {
        "id": "csCfd8wsZv9-"
      }
    },
    {
      "cell_type": "code",
      "source": [
        "import pandas as pd\n",
        "from sklearn.model_selection import train_test_split\n",
        "from sklearn.tree import DecisionTreeClassifier\n",
        "from sklearn.metrics import accuracy_score, classification_report\n",
        "url = \"https://drive.google.com/uc?id=12r4j7yjGC4s_TigKEHyISSY1NSPzF3eX\"\n",
        "bank_note_data = pd.read_csv(url)\n",
        "X = bank_note_data.drop('class', axis=1)\n",
        "y = bank_note_data['class']\n",
        "X_train, X_test, y_train, y_test = train_test_split(X, y, test_size=0.3, random_state=42)\n",
        "cart = DecisionTreeClassifier(criterion='gini', max_depth=None, min_samples_split=2, random_state=42)\n",
        "cart.fit(X_train, y_train)\n",
        "y_pred = cart.predict(X_test)\n",
        "accuracy = accuracy_score(y_test, y_pred)\n",
        "print(f\"Accuracy: {accuracy:.4f}\")\n",
        "print(\"Classification Report:\")\n",
        "print(classification_report(y_test, y_pred))"
      ],
      "metadata": {
        "colab": {
          "base_uri": "https://localhost:8080/"
        },
        "id": "0bRt9ToVZxlY",
        "outputId": "7dea89fb-77a7-41d4-8b00-f936a95376b4"
      },
      "execution_count": null,
      "outputs": [
        {
          "output_type": "stream",
          "name": "stdout",
          "text": [
            "Accuracy: 0.9806\n",
            "Classification Report:\n",
            "              precision    recall  f1-score   support\n",
            "\n",
            "           0       0.97      0.99      0.98       229\n",
            "           1       0.99      0.97      0.98       183\n",
            "\n",
            "    accuracy                           0.98       412\n",
            "   macro avg       0.98      0.98      0.98       412\n",
            "weighted avg       0.98      0.98      0.98       412\n",
            "\n"
          ]
        }
      ]
    }
  ]
}